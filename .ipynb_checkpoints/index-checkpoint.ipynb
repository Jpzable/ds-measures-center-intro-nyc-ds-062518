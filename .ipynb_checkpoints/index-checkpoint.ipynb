{
 "cells": [
  {
   "cell_type": "markdown",
   "metadata": {},
   "source": [
    "# Measures of Center\n",
    "Below is a list of salaries. What would you consider a *normal* salary?"
   ]
  },
  {
   "cell_type": "code",
   "execution_count": 2,
   "metadata": {},
   "outputs": [],
   "source": [
    "#A pickle file is an easy way to store any object in python. Here we're loading in a list of salaries from file\n",
    "#Read more about python pickling here: https://docs.python.org/3.6/library/pickle.html\n",
    "import pickle\n",
    "pkl_file = open('salaries.pkl', 'rb')\n",
    "salaries = pickle.load(pkl_file)"
   ]
  },
  {
   "cell_type": "code",
   "execution_count": null,
   "metadata": {},
   "outputs": [],
   "source": [
    "normal_salary = #Your code here"
   ]
  },
  {
   "cell_type": "markdown",
   "metadata": {},
   "source": [
    "# Answers may vary but should generally be between 50K and 100K.\n",
    "Notice that the mean and median are substantially different and that the distribution is highly skewed with a long tail. In general, using multiple measures of center and viewing the distribution as a whole provides a more representative picture of the dataset."
   ]
  },
  {
   "cell_type": "code",
   "execution_count": 3,
   "metadata": {},
   "outputs": [
    {
     "name": "stdout",
     "output_type": "stream",
     "text": [
      "Median: 56520.95346009167\n",
      "Mean: 93815.22131643743\n"
     ]
    }
   ],
   "source": [
    "import numpy as np\n",
    "print('Median:', np.median(salaries))\n",
    "print('Mean:', np.mean(salaries))"
   ]
  },
  {
   "cell_type": "code",
   "execution_count": 4,
   "metadata": {},
   "outputs": [],
   "source": [
    "import matplotlib.pyplot as plt\n",
    "%matplotlib inline"
   ]
  },
  {
   "cell_type": "code",
   "execution_count": 5,
   "metadata": {},
   "outputs": [
    {
     "data": {
      "text/plain": [
       "(array([7540., 1890.,   71.,   78.,   71.,   69.,   57.,   86.,   72.,\n",
       "          66.]),\n",
       " array([2.52752491e+01, 9.99905811e+04, 1.99955887e+05, 2.99921193e+05,\n",
       "        3.99886499e+05, 4.99851805e+05, 5.99817111e+05, 6.99782417e+05,\n",
       "        7.99747722e+05, 8.99713028e+05, 9.99678334e+05]),\n",
       " <a list of 10 Patch objects>)"
      ]
     },
     "execution_count": 5,
     "metadata": {},
     "output_type": "execute_result"
    },
    {
     "data": {
      "image/png": "[encoded data removed]",
      "text/plain": [
       "<Figure size 432x288 with 1 Axes>"
      ]
     },
     "metadata": {},
     "output_type": "display_data"
    }
   ],
   "source": [
    "plt.hist(salaries)"
   ]
  },
  {
   "cell_type": "code",
   "execution_count": 10,
   "metadata": {},
   "outputs": [
    {
     "name": "stdout",
     "output_type": "stream",
     "text": [
      "0th percentile is: 25.27524914258006\n",
      "10th percentile is: 12947.795044525215\n",
      "20th percentile is: 22773.888840195756\n",
      "30th percentile is: 32689.06595496359\n",
      "40th percentile is: 43906.99439419211\n",
      "50th percentile is: 56520.95346009167\n",
      "60th percentile is: 70561.43852939474\n",
      "70th percentile is: 88740.55739645724\n",
      "80th percentile is: 117736.01060494885\n",
      "90th percentile is: 160874.86301036485\n"
     ]
    }
   ],
   "source": [
    "for i in range(10):\n",
    "    i*=10\n",
    "    print('{}th percentile is: {}'.format(i, np.percentile(salaries, i)))"
   ]
  },
  {
   "cell_type": "code",
   "execution_count": 13,
   "metadata": {},
   "outputs": [],
   "source": [
    "plt.hist?"
   ]
  },
  {
   "cell_type": "code",
   "execution_count": 23,
   "metadata": {},
   "outputs": [
    {
     "name": "stdout",
     "output_type": "stream",
     "text": [
      "8000\n"
     ]
    },
    {
     "data": {
      "text/plain": [
       "Text(0,0.5,'Percentage of 10th to 90th percentiles')"
      ]
     },
     "execution_count": 23,
     "metadata": {},
     "output_type": "execute_result"
    },
    {
     "data": {
      "image/png": "[encoded data removed]",
      "text/plain": [
       "<Figure size 432x288 with 1 Axes>"
      ]
     },
     "metadata": {},
     "output_type": "display_data"
    }
   ],
   "source": [
    "p10 = np.percentile(salaries, 10)\n",
    "p90 = np.percentile(salaries, 90)\n",
    "salaries_10_to_90 = [sal for sal in salaries if sal>=p10 and sal<=p90]\n",
    "print(len(salaries_10_to_90))\n",
    "plt.hist(salaries_10_to_90, weights=[1/len(salaries_10_to_90) for i in range(len(salaries_10_to_90))])\n",
    "plt.title('Distribution of Salaries from the 10th to 90th percentile')\n",
    "plt.xlabel('Salary')\n",
    "plt.ylabel('Percentage of 10th to 90th percentiles')"
   ]
  }
 ],
 "metadata": {
  "kernelspec": {
   "display_name": "Python 3",
   "language": "python",
   "name": "python3"
  },
  "language_info": {
   "codemirror_mode": {
    "name": "ipython",
    "version": 3
   },
   "file_extension": ".py",
   "mimetype": "text/x-python",
   "name": "python",
   "nbconvert_exporter": "python",
   "pygments_lexer": "ipython3",
   "version": "3.6.5"
  }
 },
 "nbformat": 4,
 "nbformat_minor": 2
}
