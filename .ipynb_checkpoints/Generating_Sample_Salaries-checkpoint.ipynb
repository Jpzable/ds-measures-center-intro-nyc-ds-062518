{
 "cells": [
  {
   "cell_type": "markdown",
   "metadata": {},
   "source": [
    "# Measures of Center\n",
    "Below is a list of salaries. What would you consider a *normal* salary?"
   ]
  },
  {
   "cell_type": "code",
   "execution_count": 7,
   "metadata": {},
   "outputs": [],
   "source": [
    "import numpy as np\n",
    "import matplotlib.pyplot as plt\n",
    "%matplotlib inline"
   ]
  },
  {
   "cell_type": "code",
   "execution_count": 12,
   "metadata": {},
   "outputs": [
    {
     "data": {
      "text/plain": [
       "10000"
      ]
     },
     "execution_count": 12,
     "metadata": {},
     "output_type": "execute_result"
    }
   ],
   "source": [
    "sample_size = 10**4\n",
    "salaries = []\n",
    "salaries += list(np.random.uniform(low=0, high=10**4, size=round(sample_size*0.07)))\n",
    "salaries += list(np.random.uniform(low=10**4, high=1.5*10**4, size=round(sample_size*0.051)))\n",
    "salaries += list(np.random.uniform(low=1.5*10**4, high=2.5*10**4, size=round(sample_size*0.102)))\n",
    "salaries += list(np.random.uniform(low=2.5*10**4, high=3.5*10**4, size=round(sample_size*0.099)))\n",
    "salaries += list(np.random.uniform(low=3.5*10**4, high=5*10**4, size=round(sample_size*0.132)))\n",
    "salaries += list(np.random.uniform(low=5*10**4, high=7.5*10**4, size=round(sample_size*0.178)))\n",
    "salaries += list(np.random.uniform(low=7.5*10**4, high=10**5, size=round(sample_size*0.122)))\n",
    "salaries += list(np.random.uniform(low=10**5, high=1.5*10**5, size=round(sample_size*0.135)))\n",
    "salaries += list(np.random.uniform(low=1.5*10**5, high=2*10**5, size=round(sample_size*0.054)))\n",
    "salaries += list(np.random.uniform(low=2*10**5, high=10**6, size=round(sample_size*0.057)))\n",
    "len(salaries)"
   ]
  },
  {
   "cell_type": "code",
   "execution_count": 19,
   "metadata": {},
   "outputs": [
    {
     "data": {
      "text/plain": [
       "93815.22131643743"
      ]
     },
     "execution_count": 19,
     "metadata": {},
     "output_type": "execute_result"
    }
   ],
   "source": [
    "np.mean(salaries)"
   ]
  },
  {
   "cell_type": "code",
   "execution_count": 20,
   "metadata": {},
   "outputs": [
    {
     "data": {
      "text/plain": [
       "56520.95346009167"
      ]
     },
     "execution_count": 20,
     "metadata": {},
     "output_type": "execute_result"
    }
   ],
   "source": [
    "np.median(salaries)"
   ]
  },
  {
   "cell_type": "code",
   "execution_count": 21,
   "metadata": {},
   "outputs": [
    {
     "data": {
      "text/plain": [
       "999678.3342254699"
      ]
     },
     "execution_count": 21,
     "metadata": {},
     "output_type": "execute_result"
    }
   ],
   "source": [
    "np.max(salaries)"
   ]
  },
  {
   "cell_type": "code",
   "execution_count": 16,
   "metadata": {},
   "outputs": [],
   "source": [
    "import pickle"
   ]
  },
  {
   "cell_type": "code",
   "execution_count": 17,
   "metadata": {},
   "outputs": [],
   "source": [
    "output = open('salaries.pkl', 'wb')\n",
    "\n",
    "# Pickle the list using the highest protocol available.\n",
    "pickle.dump(salaries, output, -1)\n",
    "\n",
    "output.close()"
   ]
  },
  {
   "cell_type": "code",
   "execution_count": 18,
   "metadata": {},
   "outputs": [],
   "source": [
    "pkl_file = open('salaries.pkl', 'rb')\n",
    "salaries = pickle.load(pkl_file)"
   ]
  },
  {
   "cell_type": "code",
   "execution_count": null,
   "metadata": {},
   "outputs": [],
   "source": []
  }
 ],
 "metadata": {
  "kernelspec": {
   "display_name": "Python 3",
   "language": "python",
   "name": "python3"
  },
  "language_info": {
   "codemirror_mode": {
    "name": "ipython",
    "version": 3
   },
   "file_extension": ".py",
   "mimetype": "text/x-python",
   "name": "python",
   "nbconvert_exporter": "python",
   "pygments_lexer": "ipython3",
   "version": "3.6.5"
  }
 },
 "nbformat": 4,
 "nbformat_minor": 2
}
